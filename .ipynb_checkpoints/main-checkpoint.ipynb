{
 "cells": [
  {
   "cell_type": "markdown",
   "id": "495c162c",
   "metadata": {},
   "source": [
    "Проверяем версию Python"
   ]
  },
  {
   "cell_type": "code",
   "execution_count": 1,
   "id": "b2611437",
   "metadata": {},
   "outputs": [
    {
     "name": "stdout",
     "output_type": "stream",
     "text": [
      "3.9.13 (main, Aug 25 2022, 23:51:50) [MSC v.1916 64 bit (AMD64)]\n"
     ]
    }
   ],
   "source": [
    "import sys\n",
    "print(sys.version)"
   ]
  },
  {
   "cell_type": "markdown",
   "id": "cc321b88",
   "metadata": {},
   "source": [
    "Импортируем pandas и выводим на экран наши данные"
   ]
  },
  {
   "cell_type": "code",
   "execution_count": 2,
   "id": "9166fbc8",
   "metadata": {},
   "outputs": [
    {
     "data": {
      "text/html": [
       "<div>\n",
       "<style scoped>\n",
       "    .dataframe tbody tr th:only-of-type {\n",
       "        vertical-align: middle;\n",
       "    }\n",
       "\n",
       "    .dataframe tbody tr th {\n",
       "        vertical-align: top;\n",
       "    }\n",
       "\n",
       "    .dataframe thead th {\n",
       "        text-align: right;\n",
       "    }\n",
       "</style>\n",
       "<table border=\"1\" class=\"dataframe\">\n",
       "  <thead>\n",
       "    <tr style=\"text-align: right;\">\n",
       "      <th></th>\n",
       "      <th>client_id</th>\n",
       "      <th>order_date</th>\n",
       "      <th>order_price</th>\n",
       "      <th>city_id</th>\n",
       "    </tr>\n",
       "  </thead>\n",
       "  <tbody>\n",
       "    <tr>\n",
       "      <th>0</th>\n",
       "      <td>43017</td>\n",
       "      <td>2022-01-01</td>\n",
       "      <td>10000</td>\n",
       "      <td>1</td>\n",
       "    </tr>\n",
       "    <tr>\n",
       "      <th>1</th>\n",
       "      <td>43022</td>\n",
       "      <td>2022-01-01</td>\n",
       "      <td>7700</td>\n",
       "      <td>3</td>\n",
       "    </tr>\n",
       "    <tr>\n",
       "      <th>2</th>\n",
       "      <td>43104</td>\n",
       "      <td>2022-01-01</td>\n",
       "      <td>3200</td>\n",
       "      <td>1</td>\n",
       "    </tr>\n",
       "    <tr>\n",
       "      <th>3</th>\n",
       "      <td>43116</td>\n",
       "      <td>2022-01-01</td>\n",
       "      <td>9700</td>\n",
       "      <td>1</td>\n",
       "    </tr>\n",
       "    <tr>\n",
       "      <th>4</th>\n",
       "      <td>43153</td>\n",
       "      <td>2022-01-01</td>\n",
       "      <td>6750</td>\n",
       "      <td>2</td>\n",
       "    </tr>\n",
       "    <tr>\n",
       "      <th>...</th>\n",
       "      <td>...</td>\n",
       "      <td>...</td>\n",
       "      <td>...</td>\n",
       "      <td>...</td>\n",
       "    </tr>\n",
       "    <tr>\n",
       "      <th>10921</th>\n",
       "      <td>52725</td>\n",
       "      <td>2022-10-31</td>\n",
       "      <td>6500</td>\n",
       "      <td>1</td>\n",
       "    </tr>\n",
       "    <tr>\n",
       "      <th>10922</th>\n",
       "      <td>52769</td>\n",
       "      <td>2022-10-31</td>\n",
       "      <td>6550</td>\n",
       "      <td>3</td>\n",
       "    </tr>\n",
       "    <tr>\n",
       "      <th>10923</th>\n",
       "      <td>52813</td>\n",
       "      <td>2022-10-31</td>\n",
       "      <td>4650</td>\n",
       "      <td>2</td>\n",
       "    </tr>\n",
       "    <tr>\n",
       "      <th>10924</th>\n",
       "      <td>52879</td>\n",
       "      <td>2022-10-31</td>\n",
       "      <td>1800</td>\n",
       "      <td>2</td>\n",
       "    </tr>\n",
       "    <tr>\n",
       "      <th>10925</th>\n",
       "      <td>52894</td>\n",
       "      <td>2022-10-31</td>\n",
       "      <td>3800</td>\n",
       "      <td>2</td>\n",
       "    </tr>\n",
       "  </tbody>\n",
       "</table>\n",
       "<p>10926 rows × 4 columns</p>\n",
       "</div>"
      ],
      "text/plain": [
       "       client_id order_date  order_price  city_id\n",
       "0          43017 2022-01-01        10000        1\n",
       "1          43022 2022-01-01         7700        3\n",
       "2          43104 2022-01-01         3200        1\n",
       "3          43116 2022-01-01         9700        1\n",
       "4          43153 2022-01-01         6750        2\n",
       "...          ...        ...          ...      ...\n",
       "10921      52725 2022-10-31         6500        1\n",
       "10922      52769 2022-10-31         6550        3\n",
       "10923      52813 2022-10-31         4650        2\n",
       "10924      52879 2022-10-31         1800        2\n",
       "10925      52894 2022-10-31         3800        2\n",
       "\n",
       "[10926 rows x 4 columns]"
      ]
     },
     "execution_count": 2,
     "metadata": {},
     "output_type": "execute_result"
    }
   ],
   "source": [
    "import pandas as pd\n",
    "\n",
    "df = pd.read_csv('data.csv')\n",
    "df['order_date'] = df['order_date'].astype('datetime64[ns]')\n",
    "df"
   ]
  },
  {
   "cell_type": "markdown",
   "id": "87f1731a",
   "metadata": {},
   "source": [
    "Для того, чтобы рассчитать классический retention, который рассчитывается как отношение количества уникальных пользователей, взаимодействующих с продуктом в день N, к количеству уникальных пользователей, воспользовавшихся продуктом N дней назад, необходимо установить дату (день) начала взаимодействия пользователя с продуктом, т.е. он показывает процент пользователей, вернувшихся N дней спустя."
   ]
  },
  {
   "cell_type": "code",
   "execution_count": 3,
   "id": "cbc54c71",
   "metadata": {},
   "outputs": [
    {
     "data": {
      "text/plain": [
       "client_id\n",
       "43000   2022-01-08\n",
       "43001   2022-01-14\n",
       "43002   2022-01-03\n",
       "43003   2022-01-14\n",
       "43004   2022-01-26\n",
       "Name: start_date, dtype: datetime64[ns]"
      ]
     },
     "execution_count": 3,
     "metadata": {},
     "output_type": "execute_result"
    }
   ],
   "source": [
    "start_date = df.groupby('client_id')['order_date'].min()\n",
    "start_date = start_date.rename('start_date')\n",
    "start_date.head()"
   ]
  },
  {
   "cell_type": "markdown",
   "id": "422180ff",
   "metadata": {},
   "source": [
    "Присоединим start_date к изначальной таблице"
   ]
  },
  {
   "cell_type": "code",
   "execution_count": 4,
   "id": "1ac5718b",
   "metadata": {},
   "outputs": [
    {
     "data": {
      "text/html": [
       "<div>\n",
       "<style scoped>\n",
       "    .dataframe tbody tr th:only-of-type {\n",
       "        vertical-align: middle;\n",
       "    }\n",
       "\n",
       "    .dataframe tbody tr th {\n",
       "        vertical-align: top;\n",
       "    }\n",
       "\n",
       "    .dataframe thead th {\n",
       "        text-align: right;\n",
       "    }\n",
       "</style>\n",
       "<table border=\"1\" class=\"dataframe\">\n",
       "  <thead>\n",
       "    <tr style=\"text-align: right;\">\n",
       "      <th></th>\n",
       "      <th>client_id</th>\n",
       "      <th>order_date</th>\n",
       "      <th>order_price</th>\n",
       "      <th>city_id</th>\n",
       "      <th>start_date</th>\n",
       "    </tr>\n",
       "  </thead>\n",
       "  <tbody>\n",
       "    <tr>\n",
       "      <th>0</th>\n",
       "      <td>43017</td>\n",
       "      <td>2022-01-01</td>\n",
       "      <td>10000</td>\n",
       "      <td>1</td>\n",
       "      <td>2022-01-01</td>\n",
       "    </tr>\n",
       "    <tr>\n",
       "      <th>1</th>\n",
       "      <td>43022</td>\n",
       "      <td>2022-01-01</td>\n",
       "      <td>7700</td>\n",
       "      <td>3</td>\n",
       "      <td>2022-01-01</td>\n",
       "    </tr>\n",
       "    <tr>\n",
       "      <th>2</th>\n",
       "      <td>43104</td>\n",
       "      <td>2022-01-01</td>\n",
       "      <td>3200</td>\n",
       "      <td>1</td>\n",
       "      <td>2022-01-01</td>\n",
       "    </tr>\n",
       "    <tr>\n",
       "      <th>1019</th>\n",
       "      <td>43104</td>\n",
       "      <td>2022-01-30</td>\n",
       "      <td>3550</td>\n",
       "      <td>1</td>\n",
       "      <td>2022-01-01</td>\n",
       "    </tr>\n",
       "    <tr>\n",
       "      <th>3</th>\n",
       "      <td>43116</td>\n",
       "      <td>2022-01-01</td>\n",
       "      <td>9700</td>\n",
       "      <td>1</td>\n",
       "      <td>2022-01-01</td>\n",
       "    </tr>\n",
       "    <tr>\n",
       "      <th>...</th>\n",
       "      <td>...</td>\n",
       "      <td>...</td>\n",
       "      <td>...</td>\n",
       "      <td>...</td>\n",
       "      <td>...</td>\n",
       "    </tr>\n",
       "    <tr>\n",
       "      <th>10921</th>\n",
       "      <td>52725</td>\n",
       "      <td>2022-10-31</td>\n",
       "      <td>6500</td>\n",
       "      <td>1</td>\n",
       "      <td>2022-10-31</td>\n",
       "    </tr>\n",
       "    <tr>\n",
       "      <th>10922</th>\n",
       "      <td>52769</td>\n",
       "      <td>2022-10-31</td>\n",
       "      <td>6550</td>\n",
       "      <td>3</td>\n",
       "      <td>2022-10-31</td>\n",
       "    </tr>\n",
       "    <tr>\n",
       "      <th>10923</th>\n",
       "      <td>52813</td>\n",
       "      <td>2022-10-31</td>\n",
       "      <td>4650</td>\n",
       "      <td>2</td>\n",
       "      <td>2022-10-31</td>\n",
       "    </tr>\n",
       "    <tr>\n",
       "      <th>10924</th>\n",
       "      <td>52879</td>\n",
       "      <td>2022-10-31</td>\n",
       "      <td>1800</td>\n",
       "      <td>2</td>\n",
       "      <td>2022-10-31</td>\n",
       "    </tr>\n",
       "    <tr>\n",
       "      <th>10925</th>\n",
       "      <td>52894</td>\n",
       "      <td>2022-10-31</td>\n",
       "      <td>3800</td>\n",
       "      <td>2</td>\n",
       "      <td>2022-10-31</td>\n",
       "    </tr>\n",
       "  </tbody>\n",
       "</table>\n",
       "<p>10926 rows × 5 columns</p>\n",
       "</div>"
      ],
      "text/plain": [
       "       client_id order_date  order_price  city_id start_date\n",
       "0          43017 2022-01-01        10000        1 2022-01-01\n",
       "1          43022 2022-01-01         7700        3 2022-01-01\n",
       "2          43104 2022-01-01         3200        1 2022-01-01\n",
       "1019       43104 2022-01-30         3550        1 2022-01-01\n",
       "3          43116 2022-01-01         9700        1 2022-01-01\n",
       "...          ...        ...          ...      ...        ...\n",
       "10921      52725 2022-10-31         6500        1 2022-10-31\n",
       "10922      52769 2022-10-31         6550        3 2022-10-31\n",
       "10923      52813 2022-10-31         4650        2 2022-10-31\n",
       "10924      52879 2022-10-31         1800        2 2022-10-31\n",
       "10925      52894 2022-10-31         3800        2 2022-10-31\n",
       "\n",
       "[10926 rows x 5 columns]"
      ]
     },
     "execution_count": 4,
     "metadata": {},
     "output_type": "execute_result"
    }
   ],
   "source": [
    "df = pd.merge(df, start_date, left_on='client_id', right_index=True)\n",
    "df"
   ]
  },
  {
   "cell_type": "markdown",
   "id": "8404195e",
   "metadata": {},
   "source": [
    "Вычислим, сколько дней прошло с момента первого взаимодействия пользователя до текущего взаимодействия"
   ]
  },
  {
   "cell_type": "code",
   "execution_count": 5,
   "id": "eb3c90c8",
   "metadata": {},
   "outputs": [
    {
     "data": {
      "text/html": [
       "<div>\n",
       "<style scoped>\n",
       "    .dataframe tbody tr th:only-of-type {\n",
       "        vertical-align: middle;\n",
       "    }\n",
       "\n",
       "    .dataframe tbody tr th {\n",
       "        vertical-align: top;\n",
       "    }\n",
       "\n",
       "    .dataframe thead th {\n",
       "        text-align: right;\n",
       "    }\n",
       "</style>\n",
       "<table border=\"1\" class=\"dataframe\">\n",
       "  <thead>\n",
       "    <tr style=\"text-align: right;\">\n",
       "      <th></th>\n",
       "      <th>client_id</th>\n",
       "      <th>order_date</th>\n",
       "      <th>order_price</th>\n",
       "      <th>city_id</th>\n",
       "      <th>start_date</th>\n",
       "      <th>days_since_start</th>\n",
       "    </tr>\n",
       "  </thead>\n",
       "  <tbody>\n",
       "    <tr>\n",
       "      <th>0</th>\n",
       "      <td>43017</td>\n",
       "      <td>2022-01-01</td>\n",
       "      <td>10000</td>\n",
       "      <td>1</td>\n",
       "      <td>2022-01-01</td>\n",
       "      <td>0 days</td>\n",
       "    </tr>\n",
       "    <tr>\n",
       "      <th>1</th>\n",
       "      <td>43022</td>\n",
       "      <td>2022-01-01</td>\n",
       "      <td>7700</td>\n",
       "      <td>3</td>\n",
       "      <td>2022-01-01</td>\n",
       "      <td>0 days</td>\n",
       "    </tr>\n",
       "    <tr>\n",
       "      <th>2</th>\n",
       "      <td>43104</td>\n",
       "      <td>2022-01-01</td>\n",
       "      <td>3200</td>\n",
       "      <td>1</td>\n",
       "      <td>2022-01-01</td>\n",
       "      <td>0 days</td>\n",
       "    </tr>\n",
       "    <tr>\n",
       "      <th>1019</th>\n",
       "      <td>43104</td>\n",
       "      <td>2022-01-30</td>\n",
       "      <td>3550</td>\n",
       "      <td>1</td>\n",
       "      <td>2022-01-01</td>\n",
       "      <td>29 days</td>\n",
       "    </tr>\n",
       "    <tr>\n",
       "      <th>3</th>\n",
       "      <td>43116</td>\n",
       "      <td>2022-01-01</td>\n",
       "      <td>9700</td>\n",
       "      <td>1</td>\n",
       "      <td>2022-01-01</td>\n",
       "      <td>0 days</td>\n",
       "    </tr>\n",
       "    <tr>\n",
       "      <th>...</th>\n",
       "      <td>...</td>\n",
       "      <td>...</td>\n",
       "      <td>...</td>\n",
       "      <td>...</td>\n",
       "      <td>...</td>\n",
       "      <td>...</td>\n",
       "    </tr>\n",
       "    <tr>\n",
       "      <th>10921</th>\n",
       "      <td>52725</td>\n",
       "      <td>2022-10-31</td>\n",
       "      <td>6500</td>\n",
       "      <td>1</td>\n",
       "      <td>2022-10-31</td>\n",
       "      <td>0 days</td>\n",
       "    </tr>\n",
       "    <tr>\n",
       "      <th>10922</th>\n",
       "      <td>52769</td>\n",
       "      <td>2022-10-31</td>\n",
       "      <td>6550</td>\n",
       "      <td>3</td>\n",
       "      <td>2022-10-31</td>\n",
       "      <td>0 days</td>\n",
       "    </tr>\n",
       "    <tr>\n",
       "      <th>10923</th>\n",
       "      <td>52813</td>\n",
       "      <td>2022-10-31</td>\n",
       "      <td>4650</td>\n",
       "      <td>2</td>\n",
       "      <td>2022-10-31</td>\n",
       "      <td>0 days</td>\n",
       "    </tr>\n",
       "    <tr>\n",
       "      <th>10924</th>\n",
       "      <td>52879</td>\n",
       "      <td>2022-10-31</td>\n",
       "      <td>1800</td>\n",
       "      <td>2</td>\n",
       "      <td>2022-10-31</td>\n",
       "      <td>0 days</td>\n",
       "    </tr>\n",
       "    <tr>\n",
       "      <th>10925</th>\n",
       "      <td>52894</td>\n",
       "      <td>2022-10-31</td>\n",
       "      <td>3800</td>\n",
       "      <td>2</td>\n",
       "      <td>2022-10-31</td>\n",
       "      <td>0 days</td>\n",
       "    </tr>\n",
       "  </tbody>\n",
       "</table>\n",
       "<p>10926 rows × 6 columns</p>\n",
       "</div>"
      ],
      "text/plain": [
       "       client_id order_date  order_price  city_id start_date days_since_start\n",
       "0          43017 2022-01-01        10000        1 2022-01-01           0 days\n",
       "1          43022 2022-01-01         7700        3 2022-01-01           0 days\n",
       "2          43104 2022-01-01         3200        1 2022-01-01           0 days\n",
       "1019       43104 2022-01-30         3550        1 2022-01-01          29 days\n",
       "3          43116 2022-01-01         9700        1 2022-01-01           0 days\n",
       "...          ...        ...          ...      ...        ...              ...\n",
       "10921      52725 2022-10-31         6500        1 2022-10-31           0 days\n",
       "10922      52769 2022-10-31         6550        3 2022-10-31           0 days\n",
       "10923      52813 2022-10-31         4650        2 2022-10-31           0 days\n",
       "10924      52879 2022-10-31         1800        2 2022-10-31           0 days\n",
       "10925      52894 2022-10-31         3800        2 2022-10-31           0 days\n",
       "\n",
       "[10926 rows x 6 columns]"
      ]
     },
     "execution_count": 5,
     "metadata": {},
     "output_type": "execute_result"
    }
   ],
   "source": [
    "df['days_since_start'] = (df['order_date']-df['start_date'])\n",
    "df"
   ]
  },
  {
   "cell_type": "markdown",
   "id": "f3b97d01",
   "metadata": {},
   "source": [
    "Тоже самое сделаем для недель и месяцев"
   ]
  },
  {
   "cell_type": "code",
   "execution_count": 6,
   "id": "cbaecc25",
   "metadata": {},
   "outputs": [
    {
     "data": {
      "text/html": [
       "<div>\n",
       "<style scoped>\n",
       "    .dataframe tbody tr th:only-of-type {\n",
       "        vertical-align: middle;\n",
       "    }\n",
       "\n",
       "    .dataframe tbody tr th {\n",
       "        vertical-align: top;\n",
       "    }\n",
       "\n",
       "    .dataframe thead th {\n",
       "        text-align: right;\n",
       "    }\n",
       "</style>\n",
       "<table border=\"1\" class=\"dataframe\">\n",
       "  <thead>\n",
       "    <tr style=\"text-align: right;\">\n",
       "      <th></th>\n",
       "      <th>client_id</th>\n",
       "      <th>order_date</th>\n",
       "      <th>order_price</th>\n",
       "      <th>city_id</th>\n",
       "      <th>start_date</th>\n",
       "      <th>days_since_start</th>\n",
       "      <th>start_week</th>\n",
       "      <th>weeks_since_start</th>\n",
       "    </tr>\n",
       "  </thead>\n",
       "  <tbody>\n",
       "    <tr>\n",
       "      <th>0</th>\n",
       "      <td>43017</td>\n",
       "      <td>2022-01-01</td>\n",
       "      <td>10000</td>\n",
       "      <td>1</td>\n",
       "      <td>2022-01-01</td>\n",
       "      <td>0 days</td>\n",
       "      <td>2021-12-31</td>\n",
       "      <td>0.0</td>\n",
       "    </tr>\n",
       "    <tr>\n",
       "      <th>1</th>\n",
       "      <td>43022</td>\n",
       "      <td>2022-01-01</td>\n",
       "      <td>7700</td>\n",
       "      <td>3</td>\n",
       "      <td>2022-01-01</td>\n",
       "      <td>0 days</td>\n",
       "      <td>2021-12-31</td>\n",
       "      <td>0.0</td>\n",
       "    </tr>\n",
       "    <tr>\n",
       "      <th>2</th>\n",
       "      <td>43104</td>\n",
       "      <td>2022-01-01</td>\n",
       "      <td>3200</td>\n",
       "      <td>1</td>\n",
       "      <td>2022-01-01</td>\n",
       "      <td>0 days</td>\n",
       "      <td>2021-12-31</td>\n",
       "      <td>0.0</td>\n",
       "    </tr>\n",
       "    <tr>\n",
       "      <th>1019</th>\n",
       "      <td>43104</td>\n",
       "      <td>2022-01-30</td>\n",
       "      <td>3550</td>\n",
       "      <td>1</td>\n",
       "      <td>2022-01-01</td>\n",
       "      <td>29 days</td>\n",
       "      <td>2021-12-31</td>\n",
       "      <td>4.0</td>\n",
       "    </tr>\n",
       "    <tr>\n",
       "      <th>3</th>\n",
       "      <td>43116</td>\n",
       "      <td>2022-01-01</td>\n",
       "      <td>9700</td>\n",
       "      <td>1</td>\n",
       "      <td>2022-01-01</td>\n",
       "      <td>0 days</td>\n",
       "      <td>2021-12-31</td>\n",
       "      <td>0.0</td>\n",
       "    </tr>\n",
       "    <tr>\n",
       "      <th>...</th>\n",
       "      <td>...</td>\n",
       "      <td>...</td>\n",
       "      <td>...</td>\n",
       "      <td>...</td>\n",
       "      <td>...</td>\n",
       "      <td>...</td>\n",
       "      <td>...</td>\n",
       "      <td>...</td>\n",
       "    </tr>\n",
       "    <tr>\n",
       "      <th>10921</th>\n",
       "      <td>52725</td>\n",
       "      <td>2022-10-31</td>\n",
       "      <td>6500</td>\n",
       "      <td>1</td>\n",
       "      <td>2022-10-31</td>\n",
       "      <td>0 days</td>\n",
       "      <td>2022-10-31</td>\n",
       "      <td>0.0</td>\n",
       "    </tr>\n",
       "    <tr>\n",
       "      <th>10922</th>\n",
       "      <td>52769</td>\n",
       "      <td>2022-10-31</td>\n",
       "      <td>6550</td>\n",
       "      <td>3</td>\n",
       "      <td>2022-10-31</td>\n",
       "      <td>0 days</td>\n",
       "      <td>2022-10-31</td>\n",
       "      <td>0.0</td>\n",
       "    </tr>\n",
       "    <tr>\n",
       "      <th>10923</th>\n",
       "      <td>52813</td>\n",
       "      <td>2022-10-31</td>\n",
       "      <td>4650</td>\n",
       "      <td>2</td>\n",
       "      <td>2022-10-31</td>\n",
       "      <td>0 days</td>\n",
       "      <td>2022-10-31</td>\n",
       "      <td>0.0</td>\n",
       "    </tr>\n",
       "    <tr>\n",
       "      <th>10924</th>\n",
       "      <td>52879</td>\n",
       "      <td>2022-10-31</td>\n",
       "      <td>1800</td>\n",
       "      <td>2</td>\n",
       "      <td>2022-10-31</td>\n",
       "      <td>0 days</td>\n",
       "      <td>2022-10-31</td>\n",
       "      <td>0.0</td>\n",
       "    </tr>\n",
       "    <tr>\n",
       "      <th>10925</th>\n",
       "      <td>52894</td>\n",
       "      <td>2022-10-31</td>\n",
       "      <td>3800</td>\n",
       "      <td>2</td>\n",
       "      <td>2022-10-31</td>\n",
       "      <td>0 days</td>\n",
       "      <td>2022-10-31</td>\n",
       "      <td>0.0</td>\n",
       "    </tr>\n",
       "  </tbody>\n",
       "</table>\n",
       "<p>10926 rows × 8 columns</p>\n",
       "</div>"
      ],
      "text/plain": [
       "       client_id order_date  order_price  city_id start_date days_since_start  \\\n",
       "0          43017 2022-01-01        10000        1 2022-01-01           0 days   \n",
       "1          43022 2022-01-01         7700        3 2022-01-01           0 days   \n",
       "2          43104 2022-01-01         3200        1 2022-01-01           0 days   \n",
       "1019       43104 2022-01-30         3550        1 2022-01-01          29 days   \n",
       "3          43116 2022-01-01         9700        1 2022-01-01           0 days   \n",
       "...          ...        ...          ...      ...        ...              ...   \n",
       "10921      52725 2022-10-31         6500        1 2022-10-31           0 days   \n",
       "10922      52769 2022-10-31         6550        3 2022-10-31           0 days   \n",
       "10923      52813 2022-10-31         4650        2 2022-10-31           0 days   \n",
       "10924      52879 2022-10-31         1800        2 2022-10-31           0 days   \n",
       "10925      52894 2022-10-31         3800        2 2022-10-31           0 days   \n",
       "\n",
       "      start_week  weeks_since_start  \n",
       "0     2021-12-31                0.0  \n",
       "1     2021-12-31                0.0  \n",
       "2     2021-12-31                0.0  \n",
       "1019  2021-12-31                4.0  \n",
       "3     2021-12-31                0.0  \n",
       "...          ...                ...  \n",
       "10921 2022-10-31                0.0  \n",
       "10922 2022-10-31                0.0  \n",
       "10923 2022-10-31                0.0  \n",
       "10924 2022-10-31                0.0  \n",
       "10925 2022-10-31                0.0  \n",
       "\n",
       "[10926 rows x 8 columns]"
      ]
     },
     "execution_count": 6,
     "metadata": {},
     "output_type": "execute_result"
    }
   ],
   "source": [
    "import numpy as np\n",
    "\n",
    "df['start_week'] = df.apply(lambda x: (x['start_date'] - pd.Timedelta(x['start_date'].dayofweek, u='day')).date(), axis=1)\n",
    "df['start_week'] = pd.to_datetime(df['start_week'])\n",
    "df['weeks_since_start'] = np.floor((df['order_date'] - df['start_week']) / np.timedelta64(1, 'W'))\n",
    "\n",
    "df"
   ]
  },
  {
   "cell_type": "code",
   "execution_count": 7,
   "id": "3e0ed66f",
   "metadata": {},
   "outputs": [
    {
     "data": {
      "text/html": [
       "<div>\n",
       "<style scoped>\n",
       "    .dataframe tbody tr th:only-of-type {\n",
       "        vertical-align: middle;\n",
       "    }\n",
       "\n",
       "    .dataframe tbody tr th {\n",
       "        vertical-align: top;\n",
       "    }\n",
       "\n",
       "    .dataframe thead th {\n",
       "        text-align: right;\n",
       "    }\n",
       "</style>\n",
       "<table border=\"1\" class=\"dataframe\">\n",
       "  <thead>\n",
       "    <tr style=\"text-align: right;\">\n",
       "      <th></th>\n",
       "      <th>client_id</th>\n",
       "      <th>order_date</th>\n",
       "      <th>order_price</th>\n",
       "      <th>city_id</th>\n",
       "      <th>start_date</th>\n",
       "      <th>days_since_start</th>\n",
       "      <th>start_week</th>\n",
       "      <th>weeks_since_start</th>\n",
       "      <th>start_month</th>\n",
       "      <th>months_since_start</th>\n",
       "    </tr>\n",
       "  </thead>\n",
       "  <tbody>\n",
       "    <tr>\n",
       "      <th>0</th>\n",
       "      <td>43017</td>\n",
       "      <td>2022-01-01</td>\n",
       "      <td>10000</td>\n",
       "      <td>1</td>\n",
       "      <td>2022-01-01</td>\n",
       "      <td>0 days</td>\n",
       "      <td>2021-12-31</td>\n",
       "      <td>0.0</td>\n",
       "      <td>2022-01-01</td>\n",
       "      <td>0.0</td>\n",
       "    </tr>\n",
       "    <tr>\n",
       "      <th>1</th>\n",
       "      <td>43022</td>\n",
       "      <td>2022-01-01</td>\n",
       "      <td>7700</td>\n",
       "      <td>3</td>\n",
       "      <td>2022-01-01</td>\n",
       "      <td>0 days</td>\n",
       "      <td>2021-12-31</td>\n",
       "      <td>0.0</td>\n",
       "      <td>2022-01-01</td>\n",
       "      <td>0.0</td>\n",
       "    </tr>\n",
       "    <tr>\n",
       "      <th>2</th>\n",
       "      <td>43104</td>\n",
       "      <td>2022-01-01</td>\n",
       "      <td>3200</td>\n",
       "      <td>1</td>\n",
       "      <td>2022-01-01</td>\n",
       "      <td>0 days</td>\n",
       "      <td>2021-12-31</td>\n",
       "      <td>0.0</td>\n",
       "      <td>2022-01-01</td>\n",
       "      <td>0.0</td>\n",
       "    </tr>\n",
       "    <tr>\n",
       "      <th>1019</th>\n",
       "      <td>43104</td>\n",
       "      <td>2022-01-30</td>\n",
       "      <td>3550</td>\n",
       "      <td>1</td>\n",
       "      <td>2022-01-01</td>\n",
       "      <td>29 days</td>\n",
       "      <td>2021-12-31</td>\n",
       "      <td>4.0</td>\n",
       "      <td>2022-01-01</td>\n",
       "      <td>0.0</td>\n",
       "    </tr>\n",
       "    <tr>\n",
       "      <th>3</th>\n",
       "      <td>43116</td>\n",
       "      <td>2022-01-01</td>\n",
       "      <td>9700</td>\n",
       "      <td>1</td>\n",
       "      <td>2022-01-01</td>\n",
       "      <td>0 days</td>\n",
       "      <td>2021-12-31</td>\n",
       "      <td>0.0</td>\n",
       "      <td>2022-01-01</td>\n",
       "      <td>0.0</td>\n",
       "    </tr>\n",
       "    <tr>\n",
       "      <th>...</th>\n",
       "      <td>...</td>\n",
       "      <td>...</td>\n",
       "      <td>...</td>\n",
       "      <td>...</td>\n",
       "      <td>...</td>\n",
       "      <td>...</td>\n",
       "      <td>...</td>\n",
       "      <td>...</td>\n",
       "      <td>...</td>\n",
       "      <td>...</td>\n",
       "    </tr>\n",
       "    <tr>\n",
       "      <th>10921</th>\n",
       "      <td>52725</td>\n",
       "      <td>2022-10-31</td>\n",
       "      <td>6500</td>\n",
       "      <td>1</td>\n",
       "      <td>2022-10-31</td>\n",
       "      <td>0 days</td>\n",
       "      <td>2022-10-31</td>\n",
       "      <td>0.0</td>\n",
       "      <td>2022-10-01</td>\n",
       "      <td>0.0</td>\n",
       "    </tr>\n",
       "    <tr>\n",
       "      <th>10922</th>\n",
       "      <td>52769</td>\n",
       "      <td>2022-10-31</td>\n",
       "      <td>6550</td>\n",
       "      <td>3</td>\n",
       "      <td>2022-10-31</td>\n",
       "      <td>0 days</td>\n",
       "      <td>2022-10-31</td>\n",
       "      <td>0.0</td>\n",
       "      <td>2022-10-01</td>\n",
       "      <td>0.0</td>\n",
       "    </tr>\n",
       "    <tr>\n",
       "      <th>10923</th>\n",
       "      <td>52813</td>\n",
       "      <td>2022-10-31</td>\n",
       "      <td>4650</td>\n",
       "      <td>2</td>\n",
       "      <td>2022-10-31</td>\n",
       "      <td>0 days</td>\n",
       "      <td>2022-10-31</td>\n",
       "      <td>0.0</td>\n",
       "      <td>2022-10-01</td>\n",
       "      <td>0.0</td>\n",
       "    </tr>\n",
       "    <tr>\n",
       "      <th>10924</th>\n",
       "      <td>52879</td>\n",
       "      <td>2022-10-31</td>\n",
       "      <td>1800</td>\n",
       "      <td>2</td>\n",
       "      <td>2022-10-31</td>\n",
       "      <td>0 days</td>\n",
       "      <td>2022-10-31</td>\n",
       "      <td>0.0</td>\n",
       "      <td>2022-10-01</td>\n",
       "      <td>0.0</td>\n",
       "    </tr>\n",
       "    <tr>\n",
       "      <th>10925</th>\n",
       "      <td>52894</td>\n",
       "      <td>2022-10-31</td>\n",
       "      <td>3800</td>\n",
       "      <td>2</td>\n",
       "      <td>2022-10-31</td>\n",
       "      <td>0 days</td>\n",
       "      <td>2022-10-31</td>\n",
       "      <td>0.0</td>\n",
       "      <td>2022-10-01</td>\n",
       "      <td>0.0</td>\n",
       "    </tr>\n",
       "  </tbody>\n",
       "</table>\n",
       "<p>10926 rows × 10 columns</p>\n",
       "</div>"
      ],
      "text/plain": [
       "       client_id order_date  order_price  city_id start_date days_since_start  \\\n",
       "0          43017 2022-01-01        10000        1 2022-01-01           0 days   \n",
       "1          43022 2022-01-01         7700        3 2022-01-01           0 days   \n",
       "2          43104 2022-01-01         3200        1 2022-01-01           0 days   \n",
       "1019       43104 2022-01-30         3550        1 2022-01-01          29 days   \n",
       "3          43116 2022-01-01         9700        1 2022-01-01           0 days   \n",
       "...          ...        ...          ...      ...        ...              ...   \n",
       "10921      52725 2022-10-31         6500        1 2022-10-31           0 days   \n",
       "10922      52769 2022-10-31         6550        3 2022-10-31           0 days   \n",
       "10923      52813 2022-10-31         4650        2 2022-10-31           0 days   \n",
       "10924      52879 2022-10-31         1800        2 2022-10-31           0 days   \n",
       "10925      52894 2022-10-31         3800        2 2022-10-31           0 days   \n",
       "\n",
       "      start_week  weeks_since_start start_month  months_since_start  \n",
       "0     2021-12-31                0.0  2022-01-01                 0.0  \n",
       "1     2021-12-31                0.0  2022-01-01                 0.0  \n",
       "2     2021-12-31                0.0  2022-01-01                 0.0  \n",
       "1019  2021-12-31                4.0  2022-01-01                 0.0  \n",
       "3     2021-12-31                0.0  2022-01-01                 0.0  \n",
       "...          ...                ...         ...                 ...  \n",
       "10921 2022-10-31                0.0  2022-10-01                 0.0  \n",
       "10922 2022-10-31                0.0  2022-10-01                 0.0  \n",
       "10923 2022-10-31                0.0  2022-10-01                 0.0  \n",
       "10924 2022-10-31                0.0  2022-10-01                 0.0  \n",
       "10925 2022-10-31                0.0  2022-10-01                 0.0  \n",
       "\n",
       "[10926 rows x 10 columns]"
      ]
     },
     "execution_count": 7,
     "metadata": {},
     "output_type": "execute_result"
    }
   ],
   "source": [
    "df['start_month'] = df['start_date'].values.astype('datetime64[M]')\n",
    "df['months_since_start'] = np.floor((df['order_date'] - df['start_month']) / np.timedelta64(1, 'M'))\n",
    "\n",
    "df"
   ]
  },
  {
   "cell_type": "markdown",
   "id": "47195868",
   "metadata": {},
   "source": [
    "Рассчитаем классический ретеншн"
   ]
  },
  {
   "cell_type": "code",
   "execution_count": 8,
   "id": "b9571c33",
   "metadata": {},
   "outputs": [
    {
     "data": {
      "text/html": [
       "<div>\n",
       "<style scoped>\n",
       "    .dataframe tbody tr th:only-of-type {\n",
       "        vertical-align: middle;\n",
       "    }\n",
       "\n",
       "    .dataframe tbody tr th {\n",
       "        vertical-align: top;\n",
       "    }\n",
       "\n",
       "    .dataframe thead th {\n",
       "        text-align: right;\n",
       "    }\n",
       "</style>\n",
       "<table border=\"1\" class=\"dataframe\">\n",
       "  <thead>\n",
       "    <tr style=\"text-align: right;\">\n",
       "      <th></th>\n",
       "      <th>days_since_start</th>\n",
       "      <th>client_id</th>\n",
       "    </tr>\n",
       "  </thead>\n",
       "  <tbody>\n",
       "    <tr>\n",
       "      <th>0</th>\n",
       "      <td>0.0</td>\n",
       "      <td>100.000000</td>\n",
       "    </tr>\n",
       "    <tr>\n",
       "      <th>1</th>\n",
       "      <td>3.0</td>\n",
       "      <td>0.717087</td>\n",
       "    </tr>\n",
       "    <tr>\n",
       "      <th>2</th>\n",
       "      <td>4.0</td>\n",
       "      <td>0.817927</td>\n",
       "    </tr>\n",
       "    <tr>\n",
       "      <th>3</th>\n",
       "      <td>5.0</td>\n",
       "      <td>0.750700</td>\n",
       "    </tr>\n",
       "    <tr>\n",
       "      <th>4</th>\n",
       "      <td>6.0</td>\n",
       "      <td>0.661064</td>\n",
       "    </tr>\n",
       "    <tr>\n",
       "      <th>...</th>\n",
       "      <td>...</td>\n",
       "      <td>...</td>\n",
       "    </tr>\n",
       "    <tr>\n",
       "      <th>82</th>\n",
       "      <td>85.0</td>\n",
       "      <td>0.011204</td>\n",
       "    </tr>\n",
       "    <tr>\n",
       "      <th>83</th>\n",
       "      <td>86.0</td>\n",
       "      <td>0.011204</td>\n",
       "    </tr>\n",
       "    <tr>\n",
       "      <th>84</th>\n",
       "      <td>87.0</td>\n",
       "      <td>0.022409</td>\n",
       "    </tr>\n",
       "    <tr>\n",
       "      <th>85</th>\n",
       "      <td>88.0</td>\n",
       "      <td>0.011204</td>\n",
       "    </tr>\n",
       "    <tr>\n",
       "      <th>86</th>\n",
       "      <td>89.0</td>\n",
       "      <td>0.011204</td>\n",
       "    </tr>\n",
       "  </tbody>\n",
       "</table>\n",
       "<p>87 rows × 2 columns</p>\n",
       "</div>"
      ],
      "text/plain": [
       "    days_since_start   client_id\n",
       "0                0.0  100.000000\n",
       "1                3.0    0.717087\n",
       "2                4.0    0.817927\n",
       "3                5.0    0.750700\n",
       "4                6.0    0.661064\n",
       "..               ...         ...\n",
       "82              85.0    0.011204\n",
       "83              86.0    0.011204\n",
       "84              87.0    0.022409\n",
       "85              88.0    0.011204\n",
       "86              89.0    0.011204\n",
       "\n",
       "[87 rows x 2 columns]"
      ]
     },
     "execution_count": 8,
     "metadata": {},
     "output_type": "execute_result"
    }
   ],
   "source": [
    "import matplotlib.pyplot as plt\n",
    "\n",
    "whole_retention = df.groupby('days_since_start', as_index=False)['client_id'].nunique()\n",
    "whole_retention['client_id'] = whole_retention['client_id'] / df['client_id'].nunique() * 100\n",
    "whole_retention['days_since_start'] /= np.timedelta64(1, 'D')\n",
    "whole_retention"
   ]
  },
  {
   "cell_type": "markdown",
   "id": "15aba2cd",
   "metadata": {},
   "source": [
    "И построим график зависимости процента оставшихся пользователей от дня, прошедшего с момента первого взаимодействия"
   ]
  },
  {
   "cell_type": "code",
   "execution_count": 9,
   "id": "8ef0fa91",
   "metadata": {},
   "outputs": [
    {
     "data": {
      "text/plain": [
       "Text(0, 0.5, 'Percent Of Users Retained')"
      ]
     },
     "execution_count": 9,
     "metadata": {},
     "output_type": "execute_result"
    },
    {
     "data": {
      "image/png": "[encoded data removed]",
      "text/plain": [
       "<Figure size 640x480 with 1 Axes>"
      ]
     },
     "metadata": {},
     "output_type": "display_data"
    }
   ],
   "source": [
    "plt.plot(whole_retention['days_since_start'], whole_retention['client_id'], marker='o', markersize=2, color='black')\n",
    "plt.title(f\"{int(whole_retention['days_since_start'].max())}-Day Daily Retention\")\n",
    "plt.xlabel(\"Days Since User First Started\")\n",
    "plt.ylabel(\"Percent Of Users Retained\")"
   ]
  },
  {
   "cell_type": "markdown",
   "id": "4f37930f",
   "metadata": {},
   "source": [
    "Видим, что\n",
    "- Процент вернувшихся пользователей падает почти сразу\n",
    "- В случае классического ретеншна нет смысла рассчитывать такой большой интервал\n",
    "\n",
    "Поэтому, ограничим интервал, например, 5-ю днями"
   ]
  },
  {
   "cell_type": "code",
   "execution_count": 10,
   "id": "8731ab04",
   "metadata": {},
   "outputs": [
    {
     "data": {
      "text/plain": [
       "Text(0, 0.5, 'Percent Of Users Retained')"
      ]
     },
     "execution_count": 10,
     "metadata": {},
     "output_type": "execute_result"
    },
    {
     "data": {
      "image/png": "[encoded data removed]",
      "text/plain": [
       "<Figure size 640x480 with 1 Axes>"
      ]
     },
     "metadata": {},
     "output_type": "display_data"
    }
   ],
   "source": [
    "whole_retention_from_N = lambda whole_retention, N: whole_retention[(whole_retention['days_since_start'] <= N)]\n",
    "N = 5\n",
    "\n",
    "plt.plot(whole_retention_from_N(whole_retention, N)['days_since_start'], \n",
    "         whole_retention_from_N(whole_retention, N)['client_id'], \n",
    "         marker='o', markersize=2, color='black')\n",
    "plt.title(f\"{N}-Day Daily Retention\")\n",
    "plt.xlabel(\"Days Since User First Started\")\n",
    "plt.ylabel(\"Percent Of Users Retained\")"
   ]
  },
  {
   "cell_type": "markdown",
   "id": "785f2a86",
   "metadata": {},
   "source": [
    "Отсюда, заметим, что к 3-ему дню почти не остается вернувшихся пользователей. Однако, стоит отметить, что у нас нет данных на первый и второй дни, поэтому может оказаться, что вернувшихся пользователей не остается уже и на первый день.\n",
    "\n",
    "Результаты являются такими, так как пользователи не взаимодействую с продуктом каждый день (а именно, не заказывают домашний ремонт ежедневно). \n",
    "\n",
    "Другой метрикой, говорящей о жизнеспособности продукта, является возвратный ретеншн. В отличие от классического, в нем мы считаем количество людей, воспользовавшихся продуктом хотя бы 1 день в течение определенного периода. Проще всего в качестве периодов брать недели и месяца, поэтому мы и рассчитывали их ранее.\n",
    "\n",
    "Построим зависимости для недельного и месячного ретеншнов."
   ]
  },
  {
   "cell_type": "code",
   "execution_count": 11,
   "id": "0d3cffde",
   "metadata": {},
   "outputs": [
    {
     "data": {
      "text/plain": [
       "Text(0, 0.5, 'Percent Of Users Retained')"
      ]
     },
     "execution_count": 11,
     "metadata": {},
     "output_type": "execute_result"
    },
    {
     "data": {
      "image/png": "[encoded data removed]",
      "text/plain": [
       "<Figure size 640x480 with 1 Axes>"
      ]
     },
     "metadata": {},
     "output_type": "display_data"
    }
   ],
   "source": [
    "whole_retention_weeks = df.groupby('weeks_since_start', as_index=False)['client_id'].nunique()\n",
    "whole_retention_weeks['client_id'] = whole_retention_weeks['client_id'] / df['client_id'].nunique() * 100\n",
    "\n",
    "plt.plot(whole_retention_weeks['weeks_since_start'], \n",
    "         whole_retention_weeks['client_id'], \n",
    "         marker='o', markersize=2, color='black')\n",
    "plt.title(f\"{int(whole_retention_weeks['weeks_since_start'].max())}-Week Weekly Retention\")\n",
    "plt.xlabel(\"Weeks Since User First Started\")\n",
    "plt.ylabel(\"Percent Of Users Retained\")"
   ]
  },
  {
   "cell_type": "code",
   "execution_count": 12,
   "id": "7cccdb03",
   "metadata": {},
   "outputs": [
    {
     "data": {
      "text/plain": [
       "Text(0, 0.5, 'Percent Of Users Retained')"
      ]
     },
     "execution_count": 12,
     "metadata": {},
     "output_type": "execute_result"
    },
    {
     "data": {
      "image/png": "[encoded data removed]",
      "text/plain": [
       "<Figure size 640x480 with 1 Axes>"
      ]
     },
     "metadata": {},
     "output_type": "display_data"
    }
   ],
   "source": [
    "whole_retention_months = df.groupby('months_since_start', as_index=False)['client_id'].nunique()\n",
    "whole_retention_months['client_id'] = whole_retention_months['client_id'] / df['client_id'].nunique() * 100\n",
    "\n",
    "plt.plot(whole_retention_months['months_since_start'], whole_retention_months['client_id'], \n",
    "         marker='o', markersize=2, color='black')\n",
    "plt.title(f\"{int(whole_retention_months['months_since_start'].max())}-Month Monthly Retention\")\n",
    "plt.xlabel(\"Months Since User First Started\")\n",
    "plt.ylabel(\"Percent Of Users Retained\")"
   ]
  },
  {
   "cell_type": "markdown",
   "id": "65450bea",
   "metadata": {},
   "source": [
    "Сравним их с дневным ретеншном"
   ]
  },
  {
   "cell_type": "code",
   "execution_count": 13,
   "id": "a34c9c0a",
   "metadata": {},
   "outputs": [
    {
     "data": {
      "text/plain": [
       "Text(0, 0.5, 'Percent Of Users Retained')"
      ]
     },
     "execution_count": 13,
     "metadata": {},
     "output_type": "execute_result"
    },
    {
     "data": {
      "image/png": "[encoded data removed]",
      "text/plain": [
       "<Figure size 640x480 with 1 Axes>"
      ]
     },
     "metadata": {},
     "output_type": "display_data"
    }
   ],
   "source": [
    "plt.plot(whole_retention['days_since_start'], \n",
    "         whole_retention['client_id'], \n",
    "         marker='o', markersize=2, color='black')\n",
    "\n",
    "plt.plot(whole_retention_weeks['weeks_since_start']*7, \n",
    "         whole_retention_weeks['client_id'], \n",
    "         marker='o', markersize=2, color='red')\n",
    "\n",
    "plt.plot(whole_retention_months['months_since_start']*30, \n",
    "         whole_retention_months['client_id'], \n",
    "         marker='o', markersize=2, color='green')\n",
    "\n",
    "plt.title(f\"Daily, weekly and monthly retentions comparison\")\n",
    "plt.xlabel(\"Days Since User First Started\")\n",
    "plt.ylabel(\"Percent Of Users Retained\")"
   ]
  },
  {
   "cell_type": "markdown",
   "id": "eea80753",
   "metadata": {},
   "source": [
    "Как и ожидалось, недельный и месячный ретеншны ложатся выше дневного, причем видно, что даже спустя месяц некоторые пользователи возвращаются.\n",
    "\n",
    "Такой график может говорить о том, что либо вернувшийся человек сейчас активно проводит ремонтные работы, либо ему не понравился сервис, и он хочет воспользоваться определенной гарантией.\n",
    "\n",
    "Далее, можно построить и повторяющийся ретеншн, учитывающий возврат пользователя и после N-го дня."
   ]
  },
  {
   "cell_type": "code",
   "execution_count": 14,
   "id": "96a38dee",
   "metadata": {},
   "outputs": [],
   "source": [
    "df_dayint = df\n",
    "df_dayint['days_since_start'] /= np.timedelta64(1, 'D')"
   ]
  },
  {
   "cell_type": "code",
   "execution_count": 15,
   "id": "699ccfd9",
   "metadata": {},
   "outputs": [
    {
     "data": {
      "text/plain": [
       "<matplotlib.legend.Legend at 0x27e97422850>"
      ]
     },
     "execution_count": 15,
     "metadata": {},
     "output_type": "execute_result"
    },
    {
     "data": {
      "image/png": "[encoded data removed]",
      "text/plain": [
       "<Figure size 640x480 with 1 Axes>"
      ]
     },
     "metadata": {},
     "output_type": "display_data"
    }
   ],
   "source": [
    "rolling_retention = lambda df_dayint, N: (df_dayint[(df_dayint['days_since_start'] >= N)]['client_id'].nunique() \n",
    "                                          / df['client_id'].nunique() * 100)\n",
    "\n",
    "cutoff = 89\n",
    "rolling_retention_arr = np.zeros(cutoff)\n",
    "for i in range(cutoff):\n",
    "    rolling_retention_arr[i] = rolling_retention(df_dayint, i)\n",
    "\n",
    "plt.plot(whole_retention['days_since_start'], whole_retention['client_id'], \n",
    "         marker='o', markersize=2, color='black', label='Classic')\n",
    "plt.plot(np.linspace(0, cutoff-1, cutoff), rolling_retention_arr,\n",
    "         marker='o', markersize=2, color='red', label='Rolling')\n",
    "plt.title(f\"Classic Retention vs Rolling Retention\")\n",
    "plt.xlabel(\"Days Since User First Started\")\n",
    "plt.ylabel(\"Percent Of Users Retained\")\n",
    "plt.legend(loc=\"best\")"
   ]
  },
  {
   "cell_type": "markdown",
   "id": "d30dac45",
   "metadata": {},
   "source": [
    "Видим, что повторяющийся ретеншн сигнализирует нам о гораздо большем числе возвращающихся пользователей, чем классических ретеншн. \n",
    "\n",
    "Это говорит о том, что люди могут вернуться как спустя день, так и спустя месяцы, но спустя месяцы они будут возвращаться гораздо реже.\n",
    "\n",
    "Таким образом, понимаем, что сервисом пользуются люди, в основном, единоразово, что естественно в области ремонтных работ."
   ]
  },
  {
   "cell_type": "markdown",
   "id": "82c30d6d",
   "metadata": {},
   "source": [
    "При этом можно сравнить классический ретеншн для каждого города"
   ]
  },
  {
   "cell_type": "code",
   "execution_count": 16,
   "id": "3a720f79",
   "metadata": {},
   "outputs": [],
   "source": [
    "df_by_city = lambda df, city_id: df[(df['city_id'] == city_id)]"
   ]
  },
  {
   "cell_type": "code",
   "execution_count": 17,
   "id": "43f8fcad",
   "metadata": {},
   "outputs": [],
   "source": [
    "def whole_retention_by_city(df, city_id):\n",
    "    retention = df_by_city(df, city_id).groupby('days_since_start', as_index=False)['client_id'].nunique()\n",
    "    retention['client_id'] = retention['client_id'] / df_by_city(df, city_id)['client_id'].nunique() * 100\n",
    "    \n",
    "    return retention"
   ]
  },
  {
   "cell_type": "code",
   "execution_count": 18,
   "id": "d2f63ee8",
   "metadata": {},
   "outputs": [
    {
     "data": {
      "text/plain": [
       "<matplotlib.legend.Legend at 0x27e95a7bdf0>"
      ]
     },
     "execution_count": 18,
     "metadata": {},
     "output_type": "execute_result"
    },
    {
     "data": {
      "image/png": "[encoded data removed]",
      "text/plain": [
       "<Figure size 640x480 with 1 Axes>"
      ]
     },
     "metadata": {},
     "output_type": "display_data"
    }
   ],
   "source": [
    "N = 5\n",
    "whole_retention_by_city(df, 1)\n",
    "\n",
    "plt.plot(whole_retention_from_N(whole_retention_by_city(df, 1), N)['days_since_start'], \n",
    "         whole_retention_from_N(whole_retention_by_city(df, 1), N)['client_id'], \n",
    "         marker='o', markersize=2, color='black', label='City 1')\n",
    "\n",
    "plt.plot(whole_retention_from_N(whole_retention_by_city(df, 1), N)['days_since_start'], \n",
    "         whole_retention_from_N(whole_retention_by_city(df, 1), N)['client_id'], \n",
    "         marker='o', markersize=2, color='red', label='City 2')\n",
    "\n",
    "plt.plot(whole_retention_from_N(whole_retention_by_city(df, 1), N)['days_since_start'], \n",
    "         whole_retention_from_N(whole_retention_by_city(df, 1), N)['client_id'], \n",
    "         marker='o', markersize=2, color='green', label='City 3')\n",
    "plt.title(f\"{N}-Day Daily Retention\")\n",
    "plt.xlabel(\"Days Since User First Started\")\n",
    "plt.ylabel(\"Percent Of Users Retained\")\n",
    "plt.legend(loc='best')"
   ]
  },
  {
   "cell_type": "markdown",
   "id": "8ce037df",
   "metadata": {},
   "source": [
    "Отсюда, видно, что качественное поведение не меняется по городам."
   ]
  }
 ],
 "metadata": {
  "kernelspec": {
   "display_name": "Python 3 (ipykernel)",
   "language": "python",
   "name": "python3"
  },
  "language_info": {
   "codemirror_mode": {
    "name": "ipython",
    "version": 3
   },
   "file_extension": ".py",
   "mimetype": "text/x-python",
   "name": "python",
   "nbconvert_exporter": "python",
   "pygments_lexer": "ipython3",
   "version": "3.9.13"
  }
 },
 "nbformat": 4,
 "nbformat_minor": 5
}
